{
 "cells": [
  {
   "cell_type": "code",
   "execution_count": null,
   "id": "84c9b7da-9150-481a-b585-71c474627c0d",
   "metadata": {},
   "outputs": [],
   "source": [
    "# %load_ext lab_black\n",
    "%reload_ext lab_black\n",
    "\n",
    "# Import libraries and verify current directory\n",
    "execfile(\"startup.py\")\n",
    "execfile(\"covid_fns.py\")\n",
    "\n",
    "current_dir = os.getcwd()\n",
    "print(current_dir)\n",
    "\n",
    "# Read data and create list of dfs\n",
    "covidcsv = [\n",
    "    \"Case.csv\",\n",
    "    \"PatientInfo.csv\",\n",
    "    \"Policy.csv\",\n",
    "    \"Region.csv\",\n",
    "    \"SearchTrend.csv\",\n",
    "    \"SeoulFloating.csv\",\n",
    "    \"Time.csv\",\n",
    "    \"TimeAge.csv\",\n",
    "    \"TimeGender.csv\",\n",
    "    \"TimeProvince.csv\",\n",
    "    \"Weather.csv\",\n",
    "]\n",
    "df_names = [\n",
    "    \"case\",\n",
    "    \"pt_info\",\n",
    "    \"policy\",\n",
    "    \"region\",\n",
    "    \"trend\",\n",
    "    \"seoulfloating\",\n",
    "    \"time\",\n",
    "    \"timeage\",\n",
    "    \"timegender\",\n",
    "    \"timeprov\",\n",
    "    \"weather\",\n",
    "]"
   ]
  },
  {
   "cell_type": "code",
   "execution_count": null,
   "id": "9c93a6f8-f4a8-416a-a494-6d5536e94316",
   "metadata": {},
   "outputs": [],
   "source": [
    "# Create dictionary w covidcsv element as value and corresponding df_name element as key\n",
    "covid_dct = {}  # create blank dictionary to house 11 datasets\n",
    "for file in covidcsv:\n",
    "    covid_dct[df_names[covidcsv.index(file)]] = pd.read_csv(file, header=0)\n",
    "\n",
    "# Print out basic info for each of the 11 datasets\n",
    "for dict in covid_dct:\n",
    "    print(\n",
    "        f\"\\n============================================================== \\033[1m {dict.upper()} \\033[0m ==============================================================\"\n",
    "    )\n",
    "    covid_dct[dict].info()  # No coded missing data\n",
    "    display(covid_dct[dict].describe())\n",
    "    display(pd.DataFrame(covid_dct[dict]).head())\n",
    "    print(\"\\nMissing Data Report\")\n",
    "    display(covid_dct[dict].isnull().sum())\n",
    "    plt.ylabel(\"Arrival delay (in minutes)\")\n",
    "\n",
    "covid_list = list(covid_dct)\n",
    "covid_list"
   ]
  }
 ],
 "metadata": {
  "kernelspec": {
   "display_name": "Python 3 (ipykernel)",
   "language": "python",
   "name": "python3"
  },
  "language_info": {
   "codemirror_mode": {
    "name": "ipython",
    "version": 3
   },
   "file_extension": ".py",
   "mimetype": "text/x-python",
   "name": "python",
   "nbconvert_exporter": "python",
   "pygments_lexer": "ipython3",
   "version": "3.9.16"
  }
 },
 "nbformat": 4,
 "nbformat_minor": 5
}
